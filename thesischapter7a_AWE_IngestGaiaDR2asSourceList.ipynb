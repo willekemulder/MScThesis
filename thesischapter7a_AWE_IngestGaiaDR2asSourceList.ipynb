{
 "cells": [
  {
   "cell_type": "code",
   "execution_count": 1,
   "metadata": {
    "scrolled": true
   },
   "outputs": [
    {
     "name": "stdout",
     "output_type": "stream",
     "text": [
      "\n",
      "\n",
      "               Welcome to the Astro-WISE Environment\n",
      "\n",
      "|01-Feb-19   Planned Groningen database downtime:\n",
      "|             Tuesdays in 2019: January 8, February 5, March 5, April 2,\n",
      "                                May 7, June 4, July 2, August 6, September 3,\n",
      "                                October 8, November 5, December 3\n",
      "|20-Nov-17   The Astro-WISE documentation has been converted from LaTex to\n",
      "|            Sphinx. Documentation is now available at doc.astro-wise.org.\n",
      "\n",
      "Importing Astro-WISE packages. Please wait...\n",
      "\n",
      "DARMA using PyFITS version 3.4 and NumPy version 1.11.3\n",
      "Distributed Processing Unit: dpu.hpc.rug.astro-wise.org\n",
      "[wodan] 2020-05-13T13:24:40 - Warning: astro.main.ESOIDAttributeCalculator is different from stored definition!\n",
      "Loaded 1 active dpu keys!\n",
      "Dataserver: ds.astro.rug.astro-wise.org\n",
      "\n",
      "Current profile: \n",
      "- username : awehelmich\n",
      "- database : db.astro.rug.astro-wise.org\n",
      "- project  : KIDS\n",
      "- current privileges : 2 (Project)\n",
      "\n",
      "WARNING: Module cx_Oracle version mismatch. Expected version 5.2.1, got 7.2.3\n",
      "WARNING: Module numpy version mismatch. Expected version 1.11.2, got 1.11.3\n",
      "WARNING: Program psfex version mismatch. Expected version 3.17.1, got 3.18.2\n",
      "WARNING: Program scamp version mismatch. Expected version 1.7.0, got 2.6.7\n",
      "WARNING: Program sex version mismatch. Expected version 2.8.6, got 2.25.0\n"
     ]
    }
   ],
   "source": [
    "import astro.config.startup"
   ]
  },
  {
   "cell_type": "code",
   "execution_count": 2,
   "metadata": {},
   "outputs": [
    {
     "data": {
      "text/plain": [
       "True"
      ]
     },
     "execution_count": 2,
     "metadata": {},
     "output_type": "execute_result"
    }
   ],
   "source": [
    "from common.database.Context import context\n",
    "context.set_project('OMEGACAM@VST', 3)"
   ]
  },
  {
   "cell_type": "code",
   "execution_count": 3,
   "metadata": {},
   "outputs": [],
   "source": [
    "from astro.main.SourceList import SourceList\n",
    "from astro.main.sourcecollection.External import External\n",
    "#from astro.util.darma.common import new_table\n",
    "import pyfits\n",
    "import numpy\n",
    "import time"
   ]
  },
  {
   "cell_type": "code",
   "execution_count": 4,
   "metadata": {},
   "outputs": [],
   "source": [
    "hdus = pyfits.open('SA113_binary.fit')"
   ]
  },
  {
   "cell_type": "code",
   "execution_count": 5,
   "metadata": {},
   "outputs": [
    {
     "name": "stdout",
     "output_type": "stream",
     "text": [
      "7989\n"
     ]
    }
   ],
   "source": [
    "nsources = len(hdus[1].data)\n",
    "print(nsources)"
   ]
  },
  {
   "cell_type": "code",
   "execution_count": 6,
   "metadata": {},
   "outputs": [],
   "source": [
    "A = pyfits.Column(name='A', format='F6.4', array=numpy.ones(nsources))\n",
    "B = pyfits.Column(name='B', format='F6.4', array=numpy.ones(nsources))\n",
    "POSANG = pyfits.Column(name='POSANG', format='D', array=numpy.zeros(nsources))\n",
    "FLAG = pyfits.Column(name='FLAG', format='D', array=numpy.zeros(nsources))"
   ]
  },
  {
   "cell_type": "code",
   "execution_count": 7,
   "metadata": {},
   "outputs": [],
   "source": [
    "columns = hdus[1].data.columns + pyfits.ColDefs([A,B,POSANG,FLAG])"
   ]
  },
  {
   "cell_type": "code",
   "execution_count": 8,
   "metadata": {},
   "outputs": [
    {
     "data": {
      "text/plain": [
       "ColDefs(\n",
       "    name = 'RA'; format = 'D'; unit = 'deg'; disp = 'F15.11'\n",
       "    name = 'e_RA_ICRS'; format = 'D'; unit = 'mas'; disp = 'F7.4'\n",
       "    name = 'DEC'; format = 'D'; unit = 'deg'; disp = 'F15.11'\n",
       "    name = 'e_DE_ICRS'; format = 'D'; unit = 'mas'; disp = 'F7.4'\n",
       "    name = 'Source'; format = 'K'; disp = 'I19'\n",
       "    name = 'Plx'; format = 'D'; unit = 'mas'; disp = 'F10.4'\n",
       "    name = 'e_Plx'; format = 'E'; unit = 'mas'; disp = 'F7.4'\n",
       "    name = 'pmRA'; format = 'D'; unit = 'mas/yr'; disp = 'F9.3'\n",
       "    name = 'e_pmRA'; format = 'E'; unit = 'mas/yr'; disp = 'F6.3'\n",
       "    name = 'pmDE'; format = 'D'; unit = 'mas/yr'; disp = 'F9.3'\n",
       "    name = 'e_pmDE'; format = 'E'; unit = 'mas/yr'; disp = 'F6.3'\n",
       "    name = 'FG'; format = 'E'; unit = 'e-/s'; disp = 'E11.4'\n",
       "    name = 'e_FG'; format = 'E'; unit = 'e-/s'; disp = 'E11.4'\n",
       "    name = 'Gmag'; format = 'D'; unit = 'mag'; disp = 'F7.4'\n",
       "    name = 'e_Gmag'; format = 'D'; unit = 'mag'; disp = 'F6.4'\n",
       "    name = 'FBP'; format = 'E'; unit = 'e-/s'; disp = 'E11.4'\n",
       "    name = 'e_FBP'; format = 'E'; unit = 'e-/s'; disp = 'E11.4'\n",
       "    name = 'BPmag'; format = 'D'; unit = 'mag'; disp = 'F7.4'\n",
       "    name = 'e_BPmag'; format = 'D'; unit = 'mag'; disp = 'F6.4'\n",
       "    name = 'FRP'; format = 'E'; unit = 'e-/s'; disp = 'E11.4'\n",
       "    name = 'e_FRP'; format = 'E'; unit = 'e-/s'; disp = 'E11.4'\n",
       "    name = 'RPmag'; format = 'D'; unit = 'mag'; disp = 'F7.4'\n",
       "    name = 'e_RPmag'; format = 'D'; unit = 'mag'; disp = 'F6.4'\n",
       "    name = 'BP-RP'; format = 'D'; unit = 'mag'; disp = 'F7.4'\n",
       "    name = 'RV'; format = 'D'; unit = 'km/s'; disp = 'F7.2'\n",
       "    name = 'e_RV'; format = 'E'; unit = 'km/s'; disp = 'F5.2'\n",
       "    name = 'Teff'; format = 'D'; unit = 'K'; disp = 'F7.2'\n",
       "    name = 'AG'; format = 'E'; unit = 'mag'; disp = 'F7.4'\n",
       "    name = 'E_BP-RP_'; format = 'E'; unit = 'mag'; disp = 'F7.4'\n",
       "    name = 'Rad'; format = 'E'; unit = 'solRad'; disp = 'F6.2'\n",
       "    name = 'Lum'; format = 'D'; unit = 'solLum'; disp = 'F9.3'\n",
       "    name = 'A'; format = 'E'\n",
       "    name = 'B'; format = 'E'\n",
       "    name = 'POSANG'; format = 'D'\n",
       "    name = 'FLAG'; format = 'D'\n",
       ")"
      ]
     },
     "execution_count": 8,
     "metadata": {},
     "output_type": "execute_result"
    }
   ],
   "source": [
    "columns.change_name('RA_ICRS', 'RA')\n",
    "columns.change_name('DE_ICRS', 'DEC')\n",
    "columns.del_col('Dup')"
   ]
  },
  {
   "cell_type": "code",
   "execution_count": 9,
   "metadata": {
    "scrolled": true
   },
   "outputs": [],
   "source": [
    "#columns = pyfits.ColDefs([A,B,POSANG,FLAG, columns['RA'], columns['DEC']])"
   ]
  },
  {
   "cell_type": "code",
   "execution_count": 10,
   "metadata": {},
   "outputs": [],
   "source": [
    "now = time.time()"
   ]
  },
  {
   "cell_type": "code",
   "execution_count": 11,
   "metadata": {},
   "outputs": [],
   "source": [
    "# create hdulist\n",
    "hdulist = pyfits.HDUList()\n",
    "\n",
    "# create primary hdu\n",
    "prhdu = pyfits.PrimaryHDU()\n",
    "prhdu.header.add_history('Created from scratch')\n",
    "prhdu.header.add_history('Name = %s' % 'scratch')\n",
    "prhdu.header.add_history('Date = %s' % time.ctime(now))\n",
    "hdulist.append(prhdu)\n",
    "\n",
    "# first OBJECTS tablehdu\n",
    "#tbhdu = new_table(columns)\n",
    "tbhdu = pyfits.BinTableHDU.from_columns(columns)\n",
    "tbhdu.name = 'OBJECTS'\n",
    "hdulist.append(tbhdu)\n",
    "\n",
    "# fields tablehdu\n",
    "fields_cols = [pyfits.Column(name='OBJECT_POS', format='1J', array=numpy.array([1])),\n",
    "               pyfits.Column(name='OBJECT_COUNT', format='1J', array=numpy.array([nsources])),\n",
    "               pyfits.Column(name='CHANNEL_NAME', format='16A', array=['OMEGACAM']),\n",
    "               pyfits.Column(name='CHANNEL_NR', format='1J', array=numpy.array([1])),\n",
    "               pyfits.Column(name='MAPNAXIS', format='1J', array=numpy.array([2])),\n",
    "               pyfits.Column(name='DATE', format='32A', array=[time.strftime('%FT%H:%M:%S', time.gmtime(now))]),\n",
    "             pyfits.Column(name='EPOCH', format='1D', array=numpy.array([2000.0]))]\n",
    "#tbhdu = new_table(columns)\n",
    "tbhdu = pyfits.BinTableHDU.from_columns(fields_cols)\n",
    "tbhdu.name = 'FIELDS'\n",
    "hdulist.append(tbhdu)"
   ]
  },
  {
   "cell_type": "code",
   "execution_count": 12,
   "metadata": {},
   "outputs": [],
   "source": [
    "filename = 'SA113_SL_READY.fits'"
   ]
  },
  {
   "cell_type": "code",
   "execution_count": 13,
   "metadata": {},
   "outputs": [
    {
     "name": "stderr",
     "output_type": "stream",
     "text": [
      "/home/helmich/Software/miniconda3/envs/astro-env/lib/python3.6/site-packages/pyfits/file.py:372: UserWarning: Overwriting existing file 'SA113_SL_READY.fits'.\n",
      "  warnings.warn(\"Overwriting existing file %r.\" % self.name)\n"
     ]
    }
   ],
   "source": [
    "hdulist.writeto(filename, clobber=True)"
   ]
  },
  {
   "cell_type": "code",
   "execution_count": 14,
   "metadata": {},
   "outputs": [],
   "source": [
    "#sourcelist = SourceList()\n",
    "#sourcelist.sources._set_table_name('SOURCELIST*SOURCES**10')\n",
    "#sourcelist.catalog = filename\n",
    "#sourcelist.make_sourcelist_from_catalog()"
   ]
  },
  {
   "cell_type": "code",
   "execution_count": 15,
   "metadata": {},
   "outputs": [
    {
     "name": "stdout",
     "output_type": "stream",
     "text": [
      "[wodan] 2020-05-13T13:24:51 - Could not find row_identifier for fits file SA113_SL_READY.fits, faking SeqNr\n"
     ]
    }
   ],
   "source": [
    "ext = External()\n",
    "ext.name = 'SA113_GAIA_patch_Willeke'\n",
    "ext.make_from_fits(filename)"
   ]
  },
  {
   "cell_type": "code",
   "execution_count": 16,
   "metadata": {},
   "outputs": [],
   "source": [
    "ext.commit()"
   ]
  },
  {
   "cell_type": "code",
   "execution_count": 17,
   "metadata": {},
   "outputs": [
    {
     "name": "stdout",
     "output_type": "stream",
     "text": [
      "[wodan] 2020-05-13T13:24:54 - Creating sourcelist_data for External 4473751 .\n",
      "WARNING: Different data types for  USER_0_f :  float  vs  single_float\n",
      "WARNING: Different data types for  USER_64_f :  single_float  vs  float\n",
      "WARNING: Different data types for  USER_75_f :  single_float  vs  float\n",
      "WARNING: Different data types for  USER_85_f :  single_float  vs  float\n",
      "WARNING: Different data types for  USER_88_f :  single_float  vs  float\n",
      "WARNING: Different data types for  USER_89_f :  single_float  vs  float\n",
      "WARNING: Different data types for  USER_38_f :  single_float  vs  float\n",
      "WARNING: Different data types for  USER_39_f :  single_float  vs  float\n",
      "WARNING: Different data types for  USER_43_f :  single_float  vs  float\n",
      "WARNING: Different data types for  USER_44_f :  single_float  vs  float\n",
      "WARNING: Different data types for  USER_51_f :  single_float  vs  float\n",
      "WARNING: Different data types for  USER_53_f :  single_float  vs  float\n",
      "WARNING: Different data types for  USER_54_f :  single_float  vs  float\n",
      "WARNING: Different data types for  USER_55_f :  single_float  vs  float\n",
      "WARNING: Different data types for  SeqNr :  long  vs  int\n",
      "[wodan] 2020-05-13T13:25:15 - Created SourceList with SLID = 76151051, name = SOURCECOLLECTIONDATA and 7989 sources\n"
     ]
    },
    {
     "data": {
      "text/plain": [
       "<astro.util.TableConverter.TableConverter at 0x7ff2ef59feb8>"
      ]
     },
     "execution_count": 17,
     "metadata": {},
     "output_type": "execute_result"
    }
   ],
   "source": [
    "ext.store_data()"
   ]
  },
  {
   "cell_type": "code",
   "execution_count": 18,
   "metadata": {},
   "outputs": [
    {
     "data": {
      "text/plain": [
       "['OBJECT',\n",
       " 'PROCESS_TIME',\n",
       " 'SCID',\n",
       " 'STATUS_COMPARE',\n",
       " 'STATUS_INSPECT',\n",
       " 'STATUS_MAKE',\n",
       " 'STATUS_VERIFY',\n",
       " '_IS_CAL',\n",
       " '_IS_CONFIG',\n",
       " '_IS_RAW',\n",
       " '_IS_SCIENCE',\n",
       " '_IS_SEQ',\n",
       " '_IS_SUPPORT',\n",
       " '_SCT',\n",
       " '_SOURCELIST_DATA_NAME',\n",
       " '__class__',\n",
       " '__del__',\n",
       " '__delattr__',\n",
       " '__dict__',\n",
       " '__dir__',\n",
       " '__doc__',\n",
       " '__eq__',\n",
       " '__format__',\n",
       " '__ge__',\n",
       " '__getattribute__',\n",
       " '__gt__',\n",
       " '__hash__',\n",
       " '__init__',\n",
       " '__init_subclass__',\n",
       " '__le__',\n",
       " '__lt__',\n",
       " '__module__',\n",
       " '__ne__',\n",
       " '__new__',\n",
       " '__reduce__',\n",
       " '__reduce_ex__',\n",
       " '__repr__',\n",
       " '__setattr__',\n",
       " '__sizeof__',\n",
       " '__str__',\n",
       " '__subclasshook__',\n",
       " '__weakref__',\n",
       " '_cached_tableconverter_data',\n",
       " '_created',\n",
       " '_creator',\n",
       " '_delete',\n",
       " '_delete_post',\n",
       " '_desc',\n",
       " '_dirty',\n",
       " '_exist',\n",
       " '_get_onthefly',\n",
       " '_get_universe_sourcelist',\n",
       " '_inverses',\n",
       " '_modified',\n",
       " '_origin',\n",
       " '_privileges',\n",
       " '_project',\n",
       " '_publish',\n",
       " '_select_generic',\n",
       " '_tried_load_kids',\n",
       " '_updated',\n",
       " '_uptodate',\n",
       " '_validate_flags',\n",
       " '_version',\n",
       " 'action',\n",
       " 'add_sourcelist_data_to_relations',\n",
       " 'after_init',\n",
       " 'all_data_stored',\n",
       " 'append_data_python',\n",
       " 'as_dict',\n",
       " 'attribute_columns',\n",
       " 'attribute_names',\n",
       " 'cache_attributes_self',\n",
       " 'cache_attributes_sourcelist',\n",
       " 'cache_children',\n",
       " 'cache_relations',\n",
       " 'can_derive_data_on_the_fly',\n",
       " 'change',\n",
       " 'check',\n",
       " 'check_dependency_for_mandatory',\n",
       " 'check_mandatory_dependencies',\n",
       " 'commit',\n",
       " 'compare',\n",
       " 'copy',\n",
       " 'copy_persistent_properties',\n",
       " 'create_empty_datasuper',\n",
       " 'create_empty_sourcelist_data',\n",
       " 'creation_date',\n",
       " 'data',\n",
       " 'data_cacheid',\n",
       " 'datasuper',\n",
       " 'datasuper_cacheid',\n",
       " 'dbproxy',\n",
       " 'debug_attributes',\n",
       " 'debug_with_clauses',\n",
       " 'derive',\n",
       " 'derive_timestamp',\n",
       " 'exist',\n",
       " 'filter',\n",
       " 'find_latest_sourcecollection_on_attribute',\n",
       " 'get_alias_relations',\n",
       " 'get_alias_sourcelist',\n",
       " 'get_attribute_names',\n",
       " 'get_attribute_origin',\n",
       " 'get_attributes',\n",
       " 'get_attributes_full',\n",
       " 'get_bounding_box',\n",
       " 'get_catalog',\n",
       " 'get_children',\n",
       " 'get_children_persistent',\n",
       " 'get_creator',\n",
       " 'get_dependencies',\n",
       " 'get_dependencies_flat',\n",
       " 'get_earliest_catalog_source_progenitors',\n",
       " 'get_export',\n",
       " 'get_export_class_name',\n",
       " 'get_export_sourcelist',\n",
       " 'get_filter',\n",
       " 'get_frame',\n",
       " 'get_inverse_properties',\n",
       " 'get_new_tableconverter_id',\n",
       " 'get_object',\n",
       " 'get_onthefly',\n",
       " 'get_onthefly_dependencies',\n",
       " 'get_parents_tree',\n",
       " 'get_parents_tree_keys',\n",
       " 'get_parents_with_clauses',\n",
       " 'get_persistent',\n",
       " 'get_persistent_attributes',\n",
       " 'get_project',\n",
       " 'get_properties_lineage',\n",
       " 'get_qcflags',\n",
       " 'get_qcflags_dict',\n",
       " 'get_qcflags_set',\n",
       " 'get_qcflags_set_dict',\n",
       " 'get_query_alias',\n",
       " 'get_query_count_sources',\n",
       " 'get_query_full',\n",
       " 'get_query_new_sources',\n",
       " 'get_query_self',\n",
       " 'get_query_with_clauses',\n",
       " 'get_scid',\n",
       " 'get_slids',\n",
       " 'get_source',\n",
       " 'get_source_progenitors',\n",
       " 'get_source_python',\n",
       " 'get_source_relations',\n",
       " 'get_source_relations_sourcelist',\n",
       " 'get_sources_mask',\n",
       " 'get_tapurl',\n",
       " 'get_tapurl_dict',\n",
       " 'get_tree_part',\n",
       " 'ignore_quality_flags',\n",
       " 'info',\n",
       " 'ingest_data',\n",
       " 'inspect',\n",
       " 'inverse_objects',\n",
       " 'inverse_query',\n",
       " 'is_cal',\n",
       " 'is_compared',\n",
       " 'is_config',\n",
       " 'is_flagged',\n",
       " 'is_inspected',\n",
       " 'is_made',\n",
       " 'is_ok',\n",
       " 'is_raw',\n",
       " 'is_science',\n",
       " 'is_seq',\n",
       " 'is_support',\n",
       " 'is_valid',\n",
       " 'is_verified',\n",
       " 'load_associatelist_data_cache',\n",
       " 'load_data',\n",
       " 'load_data_cache',\n",
       " 'load_data_file',\n",
       " 'load_data_kids',\n",
       " 'load_data_nn',\n",
       " 'load_data_python',\n",
       " 'load_data_python_cache',\n",
       " 'load_data_sql',\n",
       " 'load_data_tap',\n",
       " 'load_sources',\n",
       " 'make',\n",
       " 'make_from_fits',\n",
       " 'make_from_tableconverter',\n",
       " 'mandatory_dependencies',\n",
       " 'modify_integrate_parents',\n",
       " 'modify_move_up',\n",
       " 'modify_remove_dependencies',\n",
       " 'modify_remove_self',\n",
       " 'modify_split_cached',\n",
       " 'modify_substitute_progenitors',\n",
       " 'name',\n",
       " 'object_id',\n",
       " 'onthefly_after_make',\n",
       " 'onthefly_after_set_dependencies',\n",
       " 'onthefly_after_uptodate',\n",
       " 'onthefly_before_commit',\n",
       " 'onthefly_before_make',\n",
       " 'onthefly_get_config',\n",
       " 'onthefly_init_attributes',\n",
       " 'onthefly_processable',\n",
       " 'onthefly_use_dependency',\n",
       " 'origin',\n",
       " 'patch_datasuper',\n",
       " 'persists',\n",
       " 'pickle_id',\n",
       " 'pre_insert_or_update_check',\n",
       " 'process_status',\n",
       " 'quality_flags',\n",
       " 'recommit',\n",
       " 'retrieve_associatelist_data',\n",
       " 'retrieve_cached_information',\n",
       " 'retrieve_onthefly_dependencies',\n",
       " 'retrieve_tableconverter_data',\n",
       " 'select',\n",
       " 'select_all',\n",
       " 'set_compared',\n",
       " 'set_dependency',\n",
       " 'set_inspected',\n",
       " 'set_made',\n",
       " 'set_onthefly_attributes',\n",
       " 'set_sourcelist',\n",
       " 'set_verified',\n",
       " 'source_identifiers',\n",
       " 'sourcelist_data',\n",
       " 'sourcelist_data_complete',\n",
       " 'sourcelist_sources',\n",
       " 'sources_cacheid',\n",
       " 'sources_from_data',\n",
       " 'store_cached_information',\n",
       " 'store_data',\n",
       " 'store_data_cache',\n",
       " 'store_sources',\n",
       " 'tSCID',\n",
       " 'tSCID_iterator',\n",
       " 'tSCID_seed',\n",
       " 'uptodate',\n",
       " 'verify',\n",
       " 'walk_dependencies_backwards',\n",
       " 'walk_tree_backward',\n",
       " 'walk_tree_forward']"
      ]
     },
     "execution_count": 18,
     "metadata": {},
     "output_type": "execute_result"
    }
   ],
   "source": [
    "dir(ext)"
   ]
  },
  {
   "cell_type": "code",
   "execution_count": null,
   "metadata": {},
   "outputs": [],
   "source": [
    "#sl = (SourceList.SLID == 76151031)[0]"
   ]
  },
  {
   "cell_type": "code",
   "execution_count": null,
   "metadata": {},
   "outputs": [],
   "source": [
    "#sl.sources.get_data()"
   ]
  },
  {
   "cell_type": "code",
   "execution_count": null,
   "metadata": {},
   "outputs": [],
   "source": []
  }
 ],
 "metadata": {
  "kernelspec": {
   "display_name": "Python 3",
   "language": "python",
   "name": "python3"
  },
  "language_info": {
   "codemirror_mode": {
    "name": "ipython",
    "version": 3
   },
   "file_extension": ".py",
   "mimetype": "text/x-python",
   "name": "python",
   "nbconvert_exporter": "python",
   "pygments_lexer": "ipython3",
   "version": "3.5.9"
  }
 },
 "nbformat": 4,
 "nbformat_minor": 4
}
