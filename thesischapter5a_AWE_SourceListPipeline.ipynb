{
 "cells": [
  {
   "cell_type": "markdown",
   "metadata": {},
   "source": [
    "***\n",
    "# Creating SourceLists for SA113 (to create a mock-up MasterTable)\n",
    "***"
   ]
  },
  {
   "cell_type": "markdown",
   "metadata": {},
   "source": [
    "### Context and Purpose of this Notebook: \n",
    "\n",
    "This Notebook is to show the reader the steps we need to take in the Astro_WISE environment to be able to create SourceLists with the required parameters to do our position/flux analysis. This will give us more insight in how we can distinguish changes in the position that are due to proper motions of stars from those due to distortions or 'bad' astrometrical solutions. This is a useful tool to eventually be able QUALIFY and if UPDATE existing astrometrical solutions.\n",
    "     \n",
    "\n",
    "### Method: \n",
    "We choose SA 113 as our Standard Area. From all observations, let's call them RawScience frames, taken of this specific part of the sky, we will select the frames for detector `ESO_CCD_#90` in the `OCAM_r_SDSS` band and using only the `'STD,ZEROPOINT'` objects. These contain observations that last 75 seconds. \n",
    "\n",
    "### Results: \n",
    "\n",
    "Will be written based on outcome of below's analysis.\n",
    "\n",
    "### Content:\n",
    "\n",
    "* [Using the Astro-WISE pipelines to create astrometric solutions](#AWE)\n",
    "    *  [From RawScienceFrame to ReducedScienceFrame](#raw)\n",
    "    *  [From ReducedScienceFrame to AstrometricParameters](#red)\n",
    "    *  [From AstrometricParameters to SourceLists](#ast)\n",
    "\n"
   ]
  },
  {
   "cell_type": "code",
   "execution_count": 1,
   "metadata": {},
   "outputs": [
    {
     "data": {
      "text/html": [
       "<style>.container { width:100% !important; }</style>"
      ],
      "text/plain": [
       "<IPython.core.display.HTML object>"
      ]
     },
     "metadata": {},
     "output_type": "display_data"
    },
    {
     "data": {
      "text/html": [
       "<style> div.prompt {display:true} </style>"
      ],
      "text/plain": [
       "<IPython.core.display.HTML object>"
      ]
     },
     "metadata": {},
     "output_type": "display_data"
    },
    {
     "data": {
      "text/html": [
       "<style>.output_png {display: table-cell; text-align: center; vertical-align: middle;} </style>"
      ],
      "text/plain": [
       "<IPython.core.display.HTML object>"
      ]
     },
     "metadata": {},
     "output_type": "display_data"
    }
   ],
   "source": [
    "from __future__ import print_function\n",
    "\n",
    "import warnings\n",
    "warnings.filterwarnings(\"ignore\")\n",
    "%run py/setup_awe"
   ]
  },
  {
   "cell_type": "markdown",
   "metadata": {},
   "source": [
    "<a id = \"AWE\" AWE></a>\n",
    "***\n",
    "# Example of Astro-WISE pipelines to create astrometric solutions\n",
    "***\n",
    "These first three kernels are meant to be taken as an example for an image reducing pipeline. With the Astro_WISE objects, RawScienceFrame, ReducedScienceFrame, AstromParameters are we able to create Sourcelits that contain all the source extractions from the raw observations. \n",
    "\n",
    "We will use the basic building block that can be used in the awe propmt to give a clear overview of what steps are taken in the imaging pipeline(s).\n",
    "\n",
    "The first step we need to be sure of when using the Astro-WISE system, is that we are querying in the right `project`. In our case this will be 'OMEGACAM@VST' since we run this example on a RawScienceFrame present in the Standard Area 113. We set the `privileges` to 3, meaning we are able to see the data from all Astro-WISE users present in the 'OMEGACAM@VST' project. "
   ]
  },
  {
   "cell_type": "code",
   "execution_count": 2,
   "metadata": {},
   "outputs": [
    {
     "data": {
      "text/plain": [
       "True"
      ]
     },
     "execution_count": 2,
     "metadata": {},
     "output_type": "execute_result"
    }
   ],
   "source": [
    "context.set_project('OMEGACAM@VST')\n",
    "context.set_privileges(3)"
   ]
  },
  {
   "cell_type": "markdown",
   "metadata": {},
   "source": [
    "<br>\n",
    "\n",
    "<a id = \"SA113\" SA113></a>\n",
    "***\n",
    "# Using Astro-WISE to create SourceLists for Standard Area 113\n",
    "***"
   ]
  },
  {
   "cell_type": "markdown",
   "metadata": {},
   "source": [
    "## Finding and accessing the data items from SA 113\n",
    "\n",
    "We want to analyse and quality control the <b>SA113 monitoring field calibration</b> observations: astrometric model, astrometric reference catalog, astrometric solutions and derived astrometry of stars in SA113.\n",
    "\n",
    "See [HOW-TO Use your Astro-WISE Context to set data scopes](http://doc.astro-wise.org/man_howto_context.html)"
   ]
  },
  {
   "cell_type": "markdown",
   "metadata": {},
   "source": [
    "We start by making an inventory of all available raw exposures with(in):\n",
    "* `OMEGACAM@VST` project\n",
    "* Privilege level 3\n",
    "* SA113 field, pointing RA= 325.375, DEC= 0.499\n",
    "* Field of View of 1 squared degree\n",
    "* DectectorID: `ESO_CCD_#90`\n",
    "* Filter: `OCAM_r_SDSS`"
   ]
  },
  {
   "cell_type": "code",
   "execution_count": 67,
   "metadata": {},
   "outputs": [],
   "source": [
    "context.set_project('OMEGACAM@VST')\n",
    "context.set_privileges(3)\n",
    "radec_SA113=[325.375,0.499]\n",
    "ra_SA113,dec_SA113,dra_SA113,ddec_SA113=radec_SA113[0],radec_SA113[1],1.,1.\n",
    "\n",
    "radec_SA107=[234.825,-0.263] \n",
    "ra_SA107,dec_SA107,dra_SA107,ddec_SA107=radec_SA107[0],radec_SA107[1],1.,1.\n",
    "\n",
    "# radec_SA101=[149.112,-0.386]\n",
    "# ra,dec,dra,ddec=radec_SA101[0],radec_SA101[1],1.,1."
   ]
  },
  {
   "cell_type": "code",
   "execution_count": 68,
   "metadata": {},
   "outputs": [
    {
     "name": "stdout",
     "output_type": "stream",
     "text": [
      "From all 4198 public RawScienceFrame's, we select 560 based on our criteria\n"
     ]
    }
   ],
   "source": [
    "qrawsfall_SA113=(RawScienceFrame.chip.name=='ESO_CCD_#90') & (RawScienceFrame.astrom.CRVAL1<ra_SA113+dra_SA113) & (RawScienceFrame.astrom.CRVAL1>ra_SA113-dra_SA113) & (RawScienceFrame.astrom.CRVAL2<dec_SA113+ddec_SA113) & (RawScienceFrame.astrom.CRVAL2>dec_SA113-ddec_SA113)\n",
    "qrawsf_SA113= qrawsfall_SA113 & (RawScienceFrame.OBJECT=='STD,ZEROPOINT') & (RawScienceFrame.filter.name=='OCAM_r_SDSS') & (RawScienceFrame.EXPTIME==75.0) \n",
    "n_qrawsfall_pub_SA113=len(qrawsfall_SA113)\n",
    "n_qrawsf_pub_SA113=len(qrawsf_SA113)\n",
    "\n",
    "print(\"From all {} public RawScienceFrame's, we select {} based on our criteria\".format(n_qrawsfall_pub_SA113, n_qrawsf_pub_SA113))"
   ]
  },
  {
   "cell_type": "code",
   "execution_count": 69,
   "metadata": {},
   "outputs": [
    {
     "name": "stdout",
     "output_type": "stream",
     "text": [
      "From all 4118 public RawScienceFrame's, we select 505 based on our criteria\n"
     ]
    }
   ],
   "source": [
    "qrawsfall_SA107=(RawScienceFrame.chip.name=='ESO_CCD_#90') & (RawScienceFrame.astrom.CRVAL1<ra_SA107+dra_SA107) & (RawScienceFrame.astrom.CRVAL1>ra_SA107-dra_SA107) & (RawScienceFrame.astrom.CRVAL2<dec_SA107+ddec_SA107) & (RawScienceFrame.astrom.CRVAL2>dec_SA107-ddec_SA107)\n",
    "qrawsf_SA107= qrawsfall_SA107 & (RawScienceFrame.OBJECT=='STD,ZEROPOINT') & (RawScienceFrame.filter.name=='OCAM_r_SDSS') & (RawScienceFrame.EXPTIME==75.0) \n",
    "n_qrawsfall_pub_SA107=len(qrawsfall_SA107)\n",
    "n_qrawsf_pub_SA107=len(qrawsf_SA107)\n",
    "\n",
    "print(\"From all {} public RawScienceFrame's, we select {} based on our criteria\".format(n_qrawsfall_pub_SA107, n_qrawsf_pub_SA107))"
   ]
  },
  {
   "cell_type": "markdown",
   "metadata": {},
   "source": [
    "\n",
    "\n",
    "### From RawSienceFrame to SourceList, step-by-step\n",
    "\n",
    "Let's start with `simple exercise` to go from a RawScienceFrame --> ReducedScienceFrame --> AstromParams --> SourceList<br>\n",
    "During this exercision, we constantly want to check whether there is already an existing ReducedScienceFrame or even AstromParams to not redo/re-run unnecessary pipelines."
   ]
  },
  {
   "cell_type": "code",
   "execution_count": null,
   "metadata": {},
   "outputs": [],
   "source": [
    "rawsf_filenames_SA113 = [rawframe.filename for rawframe in qrawsf_SA113]\n",
    "print(len(rawsf_filenames_SA113))"
   ]
  },
  {
   "cell_type": "code",
   "execution_count": null,
   "metadata": {},
   "outputs": [],
   "source": [
    "qredsf_SA113 = []\n",
    "for filename in rawsf_filenames_SA113:\n",
    "    if len((ReducedScienceFrame.raw.filename == filename)) > 0:\n",
    "        qredsf_loop_SA113 = (ReducedScienceFrame.raw.filename == filename)\n",
    "        qredsf_SA113.append(qredsf_loop_SA113)\n",
    "    else:\n",
    "        pass\n",
    "n_qredsf_pub_SA113 = len(qredsf_SA113)\n",
    "print(\"From all {} selected RawScienceFrame's, {} ReducedScienceFrame's were generated\".format(n_qrawsf_pub_SA113, n_qredsf_pub_SA113))"
   ]
  },
  {
   "cell_type": "code",
   "execution_count": 7,
   "metadata": {},
   "outputs": [
    {
     "name": "stdout",
     "output_type": "stream",
     "text": [
      "505\n"
     ]
    }
   ],
   "source": [
    "rawsf_filenames_SA107 = [rawframe.filename for rawframe in qrawsf_SA107]\n",
    "print(len(rawsf_filenames_SA107))"
   ]
  },
  {
   "cell_type": "code",
   "execution_count": 8,
   "metadata": {},
   "outputs": [
    {
     "name": "stdout",
     "output_type": "stream",
     "text": [
      "From all 505 selected RawScienceFrame's, 505 ReducedScienceFrame's were generated\n"
     ]
    }
   ],
   "source": [
    "qredsf_SA107 = []\n",
    "for filename in rawsf_filenames_SA107:\n",
    "    if len((ReducedScienceFrame.raw.filename == filename)) > 0:\n",
    "        qredsf_loop_SA107 = (ReducedScienceFrame.raw.filename == filename)\n",
    "        qredsf_SA107.append(qredsf_loop_SA107)\n",
    "    else:\n",
    "        pass\n",
    "n_qredsf_pub_SA107 = len(qredsf_SA107)\n",
    "print(\"From all {} selected RawScienceFrame's, {} ReducedScienceFrame's were generated\".format(n_qrawsf_pub_SA107, n_qredsf_pub_SA107))"
   ]
  },
  {
   "cell_type": "markdown",
   "metadata": {},
   "source": [
    "``` bash\n",
    "# for SA107\n",
    "From all 4118 public RawScienceFrames, we select 505 based on our criteria\n",
    "\n",
    "Sci-EHELMICH-OMEGACAM-------OCAM_r_SDSS-ESO_CCD_#90-Red---Sci-55994.6913563-12e5e68216bab5f0657a48030f0abb590fbb28c9.fits\n",
    "Sci-EHELMICH-OMEGACAM-------OCAM_r_SDSS-ESO_CCD_#90-Red---Sci-56548.3788899-4562c05d8d1e2745192ba5c95f2ed89217aeaf7a.fits\n",
    "From all 505 selected RawScienceFrames, 2 ReducedScienceFrames were generated\n",
    "\n",
    "```"
   ]
  },
  {
   "cell_type": "code",
   "execution_count": 9,
   "metadata": {},
   "outputs": [
    {
     "name": "stdout",
     "output_type": "stream",
     "text": [
      "2012-03-08 16:36:43 1\n",
      "2013-09-13 09:06:44 1\n",
      "From all 2 selected ReducedScienceFrame's, 2 AstrometricParameters were generated\n"
     ]
    }
   ],
   "source": [
    "apsf_filenames_SA113 = [redframe[0].filename for redframe in qredsf_SA113]\n",
    "qapsf_SA113 = []\n",
    "for filename in apsf_filenames_SA113:\n",
    "    if len((AstrometricParameters.reduced.filename == filename)) > 0:\n",
    "        qapsf_loop_SA113 = (AstrometricParameters.reduced.filename == filename)\n",
    "#         print(qapsf_loop_SA113[0].creation_date, qapsf_loop_SA113[0].is_valid)\n",
    "        qapsf_SA113.append(qapsf_loop_SA113)\n",
    "n_qapsf_pub_SA113 = len(qapsf_SA113)\n",
    "print(\"From all {} selected ReducedScienceFrame's, {} AstrometricParameters were generated\".format(n_qredsf_pub_SA113, n_qapsf_pub_SA113))\n"
   ]
  },
  {
   "cell_type": "code",
   "execution_count": 9,
   "metadata": {},
   "outputs": [
    {
     "name": "stdout",
     "output_type": "stream",
     "text": [
      "From all 505 selected ReducedScienceFrame's, 505 AstrometricParameters were generated\n"
     ]
    }
   ],
   "source": [
    "apsf_filenames_SA107 = [redframe[0].filename for redframe in qredsf_SA107]\n",
    "qapsf_SA107 = []\n",
    "for filename in apsf_filenames_SA107:\n",
    "    if len((AstrometricParameters.reduced.filename == filename)) > 0:\n",
    "        qapsf_loop_SA107 = (AstrometricParameters.reduced.filename == filename)\n",
    "#         print(qapsf_loop_SA107[0].creation_date, qapsf_loop_SA113[0].is_valid)\n",
    "        qapsf_SA107.append(qapsf_loop_SA107)\n",
    "n_qapsf_pub_SA107 = len(qapsf_SA107)\n",
    "print(\"From all {} selected ReducedScienceFrame's, {} AstrometricParameters were generated\".format(n_qredsf_pub_SA107, n_qapsf_pub_SA107))\n"
   ]
  },
  {
   "cell_type": "markdown",
   "metadata": {},
   "source": [
    "Just as seen from our query \n",
    "\n",
    "``` python\n",
    "\n",
    "# for SA113\n",
    "> qap= (AstrometricParameters.chip.name=='ESO_CCD_#90') & (AstrometricParameters.filter.name=='OCAM_r_SDSS') & (AstrometricParameters.CRVAL1<ra+dra) & (AstrometricParameters.CRVAL1>ra-dra)  & (AstrometricParameters.CRVAL2<dec+ddec) & (AstrometricParameters.CRVAL2>dec-ddec)\n",
    "> len(qap)\n",
    "69\n",
    "\n",
    "# for SA107\n",
    "qap= (AstrometricParameters.chip.name=='ESO_CCD_#90') & (AstrometricParameters.filter.name=='OCAM_r_SDSS') & (AstrometricParameters.CRVAL1<ra+dra) & (AstrometricParameters.CRVAL1>ra-dra)  & (AstrometricParameters.CRVAL2<dec+ddec) & (AstrometricParameters.CRVAL2>dec-ddec)\n",
    "> len(qap)\n",
    "2\n",
    "```\n",
    "\n",
    "Only for a few RawScienceFrame's there is a AstrometricParameters object from which we can create a SourceList. Let's try to produce a ReducedScienceFrame, AstometricParameters and SourceList"
   ]
  },
  {
   "cell_type": "markdown",
   "metadata": {},
   "source": [
    "## Example: One route to go from a RawScienceFrame to a SourceList "
   ]
  },
  {
   "cell_type": "code",
   "execution_count": null,
   "metadata": {},
   "outputs": [],
   "source": [
    "def check_existence_reduced(frame, CLASS = 'ReducedScienceFrame'):\n",
    "    check = (ReducedScienceFrame.raw.filename == frame.filename)\n",
    "    if len(check) == 0:\n",
    "        print(\"There is no existing {} for the input frame with filename {}\".format(CLASS, frame.filename))\n",
    "    else:\n",
    "        print(\"There is a {} for the input frame with filename {}\".format(CLASS, frame.filename))\n",
    "\n",
    "rawf = qrawsf[0]\n",
    "rawf_filename = rawf.filename\n",
    "check_existence_reduced(rawf)\n"
   ]
  },
  {
   "cell_type": "markdown",
   "metadata": {},
   "source": [
    "<a id = \"raw\" SA113></a>\n",
    "\n",
    "### 1) Using the [HOW-TO Create a ReducedScienceFrame](http://doc.astro-wise.org/man_howto_reduce.html) to obtain ReducedScienceFrame"
   ]
  },
  {
   "cell_type": "code",
   "execution_count": null,
   "metadata": {},
   "outputs": [],
   "source": [
    "#http://doc.astro-wise.org/man_howto_reduce.html from astro.main.MasterFlatFrame import MasterFlatFrame\n",
    "from astro.main.ColdPixelMap import ColdPixelMap\n",
    "from astro.main.HotPixelMap import HotPixelMap\n",
    "from astro.main.BiasFrame import BiasFrame\n",
    "\n",
    "\n",
    "run = 'off'\n",
    "\n",
    "if run == 'on':\n",
    "    raw  = (RawScienceFrame.filename == rawf_filename)[0]\n",
    "    hot  = HotPixelMap.select_for_raw(raw)\n",
    "    cold = ColdPixelMap.select_for_raw(raw)\n",
    "    flat = MasterFlatFrame.select_for_raw(raw)\n",
    "    bias = BiasFrame.select_for_raw(raw)\n",
    "\n",
    "    reduced = ReducedScienceFrame()\n",
    "    reduced.raw  = raw\n",
    "    reduced.hot  = hot\n",
    "    reduced.cold = cold\n",
    "    reduced.bias = bias\n",
    "    reduced.flat = flat\n",
    "    reduced.raw.retrieve()\n",
    "    reduced.hot.retrieve()\n",
    "    reduced.cold.retrieve()\n",
    "    reduced.bias.retrieve()\n",
    "    reduced.flat.retrieve()\n",
    "    reduced.set_filename()\n",
    "\n",
    "    reduced.make()\n",
    "    reduced.store()\n",
    "    reduced.weight.store()\n",
    "    reduced.commit()\n",
    "\n"
   ]
  },
  {
   "cell_type": "code",
   "execution_count": 3,
   "metadata": {},
   "outputs": [],
   "source": [
    "run = 'off'\n",
    "\n",
    "if run == 'on':\n",
    "    dpu.run('Reduce', i='OMEGACAM', raw_filenames=[dpu_framesrun], C=1, dpu_time=1799, send_code=False)\n",
    "    dpu.run('Reduce', i='OMEGACAM', raw_filenames=[rawsf_filenames], C=1, dpu_time=1799, send_code=False)\n",
    "\n",
    "qredsf = []\n",
    "for idx, filename in enumerate(rawsf_filenames):\n",
    "    dpu.run('Reduce', i='OMEGACAM', raw_filenames=[filename], C=0, dpu_time=1799, send_code=False)\n",
    "    print(\"{}/{}\".format(idx+1, len(redsf_filenames)))\n",
    "n_qredsf_pub = len(qredsf)"
   ]
  },
  {
   "cell_type": "markdown",
   "metadata": {},
   "source": [
    "<a id = \"red\" SA113></a>\n",
    "\n",
    "### 2)  Using the [HOW-TO Derive astrometry](http://doc.astro-wise.org/man_howto_astrom.html#howtoastrom) to obtain AstrometricParameters\n",
    "\n",
    "To go from a ReducesScienceFrame to AstrometricParameters, Astro-WISE users can use either one of the two commands:\n",
    "```python\n",
    "dpu.run('Astrometry', i='OMEGACAM', red_filenames=[reduced.filename], C=0)\n",
    "```\n",
    "or\n",
    "```python\n",
    "task = AstrometricParametersTask(red_filenames=[reduced.filename], commit=0)\n",
    "task.execute()\n",
    "```\n",
    "as a fast tool to determine the astrometrical solutions. In the kernel below we show the steps you have to make by again using basic building blocks. \n",
    "\n",
    "Be aware, a lot of code is 'hiding' behind these methods. In any case, for all the three different approches, the system goes though the following steps to derive the solutions:\n",
    "\n",
    "1. Approximation of the affine transformation parameters by preastrometric pairing (preastrom)\n",
    "* Application of the affine transformation to the source catalogue (aplastrom)\n",
    "* Association of source and astrometric reference catalogue (associate)\n",
    "* Filter assaciations with large association distance\n",
    "* Building of an PAIR_X catalogue based on the filtered associations (make_ssc)\n",
    "* Derivation of the full astrometric solution (astrom)\n",
    "* Conversion of the astrometric solution parameters to PV parameters (make_distort)"
   ]
  },
  {
   "cell_type": "code",
   "execution_count": null,
   "metadata": {},
   "outputs": [],
   "source": [
    "def check_existence_astromp(frame, CLASS = 'AstrometricParameters'):\n",
    "    check = (AstrometricParameters.reduced.filename == frame.filename)\n",
    "    if len(check) == 0:\n",
    "        print(\"There is no existing {} for the input frame with filename {}\".format(CLASS, frame.filename))\n",
    "\n",
    "for i in redsf_filenames:\n",
    "    try:\n",
    "        redf = (ReducedScienceFrame.raw.filename == i)\n",
    "        redf_filename = redf[0].filename\n",
    "        print(redf_filename)\n",
    "    except IndexError as err:\n",
    "        pass\n",
    "    \n",
    "redf_SA113 = (ReducedScienceFrame.raw.filename == rawf_filename_SA113)[0]\n",
    "redf_filename_SA113 = redf.filename\n",
    "check_existence_astromp(redf_SA113)\n",
    "\n",
    "\n",
    "# ### EXAMPLE: GET FIRST REDUCED FRAME BY SEARCHING FOR FIRST RAW FRAME\n",
    "# redf = (ReducedScienceFrame.raw.filename == 'OMEGACAM.2014-08-05T02:22:19.268_14.fits')[0]\n",
    "# redf_filename = redf.filename\n",
    "# print (redf_filename)"
   ]
  },
  {
   "cell_type": "code",
   "execution_count": 5,
   "metadata": {},
   "outputs": [],
   "source": [
    "rawsf_filenames_SA113 = [rawframe.filename for rawframe in qrawsf_SA113]\n",
    "redsf_filenames_SA113 = [(ReducedScienceFrame.raw.filename == rawf_filename)[0].filename for rawf_filename in rawsf_filenames_SA113]\n",
    "\n",
    "aps_SA113 = [(AstrometricParameters.reduced.filename == redf_filename)[0] for redf_filename in redsf_filenames_SA113]\n",
    "\n",
    "run = 'off'\n",
    "\n",
    "if run == 'on':\n",
    "    dpu.run('Astrometry', instrument='OMEGACAM', red_filenames=redsf_filenames_SA113, C=1, dpu_time=1799, send_code=False)\n",
    "\n",
    "for slid in slids:\n",
    "    SL = (SourceList.SLID == slid)[0].frame.filename\n",
    "\n",
    "if run == 'on':\n",
    "    task = AstrometricParametersTask(red_filenames=['Sci-WMULDER-OMEGACAM-------OCAM_r_SDSS-ESO_CCD_#90-Red---Sci-58969.1264780-5e8f0d4868869ea54b6a5a82b8ca2d944c9e94a0.fits'], i='OMEGACAM')\n",
    "    task.execute()"
   ]
  },
  {
   "cell_type": "code",
   "execution_count": null,
   "metadata": {},
   "outputs": [],
   "source": [
    "# rawsf_filenames_SA107 = [rawframe.filename for rawframe in qrawsf_SA107]\n",
    "# redsf_filenames_SA107 = [(ReducedScienceFrame.raw.filename == rawf_filename)[0].filename for rawf_filename in rawsf_filenames_SA107]\n",
    "#print(redsf_filenames_SA113)\n",
    "\n",
    "aps_SA107 = [(AstrometricParameters.reduced.filename == redf_filename)[0] for redf_filename in redsf_filenames_SA107]\n",
    "\n",
    "# dpu.run('Astrometry', instrument='OMEGACAM', process_params.REFCAT='USNO-B1.0', red_filenames=redsf_filenames_SA107, C=1, dpu_time=1799, send_code=False)\n",
    "\n",
    "for slid in slids:\n",
    "    SL = (SourceList.SLID == slid)[0].frame.filename\n",
    "\n",
    "# task = AstrometricParametersTask(red_filenames=['Sci-WMULDER-OMEGACAM-------OCAM_r_SDSS-ESO_CCD_#90-Red---Sci-58969.1264780-5e8f0d4868869ea54b6a5a82b8ca2d944c9e94a0.fits'], i='OMEGACAM')\n",
    "# task.execute()"
   ]
  },
  {
   "cell_type": "markdown",
   "metadata": {},
   "source": [
    "<br>\n",
    "\n",
    "#### AstrometricParameters with USNO-B1.0 as REFCAT"
   ]
  },
  {
   "cell_type": "code",
   "execution_count": 149,
   "metadata": {},
   "outputs": [
    {
     "name": "stdout",
     "output_type": "stream",
     "text": [
      "Use the following format to create instrument specific defaults:\n",
      "Pars(<class>, instrument=<instrument>, filter=<filter>, chip=<chip>)\n",
      "[coma-5.vm.astro.rug.nl] 2020-05-20T12:06:49 - Calling: Processor.run(Astrometry, instrument=OMEGACAM, red_filenames=['Sci-WMULDER-OMEGACAM-------OCAM_r_SDSS-ESO_CCD_#90-Red---Sci-58968.4195487-bb31fbd6f1b5464ea6fa4300907920ef232e4f55.fits'], pars={'AstrometricParameters.process_params.REFCAT': 'USNO-B1.0'}, C=1)\n",
      "[coma-5.vm.astro.rug.nl] 2020-05-20T12:06:49 - Estimated process time : 1799 seconds\n",
      "[coma-5.vm.astro.rug.nl] 2020-05-20T12:06:50 - Sending job with identifier 114943 to DPU (dpu.hpc.rug.astro-wise.org)\n"
     ]
    },
    {
     "data": {
      "text/plain": [
       "114943"
      ]
     },
     "execution_count": 149,
     "metadata": {},
     "output_type": "execute_result"
    }
   ],
   "source": [
    "qrawsfall_SA113=(RawScienceFrame.chip.name=='ESO_CCD_#90') & (RawScienceFrame.astrom.CRVAL1<ra_SA113+dra_SA113) & (RawScienceFrame.astrom.CRVAL1>ra_SA113-dra_SA113) & (RawScienceFrame.astrom.CRVAL2<dec_SA113+ddec_SA113) & (RawScienceFrame.astrom.CRVAL2>dec_SA113-ddec_SA113)\n",
    "qrawsf_SA113= qrawsfall_SA113 & (RawScienceFrame.OBJECT=='STD,ZEROPOINT') & (RawScienceFrame.filter.name=='OCAM_r_SDSS') & (RawScienceFrame.EXPTIME==75.0) \n",
    "\n",
    "rawsf_filenames_SA113 = [rawframe.filename for rawframe in qrawsf_SA113]\n",
    "redsf_filenames_SA113 = [(ReducedScienceFrame.raw.filename == rawf_filename)[0].filename for rawf_filename in rawsf_filenames_SA113]\n",
    "\n",
    "\n",
    "run = 'off'\n",
    "\n",
    "if run == 'on':\n",
    "    p = Pars(AstrometricParameters)\n",
    "    p.AstrometricParameters.process_params.REFCAT = 'USNO-B1.0'\n",
    "    p_dict = p.get()\n",
    "\n",
    "    dpu.run('Astrometry', instrument='OMEGACAM', pars=p_dict, red_filenames=[redsf_filenames_SA113[0]], C=1, dpu_time=1799, send_code=False)"
   ]
  },
  {
   "cell_type": "code",
   "execution_count": 152,
   "metadata": {},
   "outputs": [
    {
     "name": "stdout",
     "output_type": "stream",
     "text": [
      "[coma-5.vm.astro.rug.nl] 2020-05-20T12:11:08 - Jobid 114943 has status FINISHED N/E/A/S/U 1/0/0/0/0\n"
     ]
    }
   ],
   "source": [
    "dpu.get_status(114943)"
   ]
  },
  {
   "cell_type": "markdown",
   "metadata": {},
   "source": [
    "\n",
    "#### AstrometricParameters with USNO-B1.0 as REFCAT"
   ]
  },
  {
   "cell_type": "code",
   "execution_count": 200,
   "metadata": {},
   "outputs": [],
   "source": [
    "red = (ReducedScienceFrame.filename == redsf_filenames_SA113[0])\n",
    "AS = (AstrometricParameters.reduced.filename == red[0].filename)"
   ]
  },
  {
   "cell_type": "code",
   "execution_count": 201,
   "metadata": {
    "scrolled": true
   },
   "outputs": [
    {
     "name": "stdout",
     "output_type": "stream",
     "text": [
      "SOURCECOLLECTIONDATA\n",
      "USNO-B1.0\n",
      "SA113_GAIA_patch_Willeke\n"
     ]
    }
   ],
   "source": [
    "for As in AS:\n",
    "    print(As.process_params.REFCAT)"
   ]
  },
  {
   "cell_type": "markdown",
   "metadata": {},
   "source": [
    "<a id = \"ast\" SA113></a>\n",
    "\n",
    "### 3) Using the [HOW-TO SourceLists in the Astro-WISE System](http://doc.astro-wise.org/man_howto_sourcelists.html) to obtain SourceLists"
   ]
  },
  {
   "cell_type": "code",
   "execution_count": 1,
   "metadata": {},
   "outputs": [],
   "source": [
    "query = (ReducedScienceFrame.filename == redsf_filenames_SA113[0])  \n",
    "frame = query[0]\n",
    "astrom = ((AstrometricParameters.reduced == frame) & (AstrometricParameters.process_params.REFCAT=='USNO-B1.0')).max('creation_date')\n",
    "frame.retrieve()\n",
    "frame.weight.retrieve()\n",
    "sourcelist = SourceList()\n",
    "sourcelist.frame = frame\n",
    "sourcelist.sexparam = ['MAG_APER', 'MAGERR_APER', 'FLUX_AUTO', 'FLUXERR_AUTO', 'FLUX_APER', 'FLUXERR_APER', 'ERRX2_IMAGE', 'ERRY2_IMAGE', 'ERRXY_IMAGE', 'XWIN', 'YWIN', 'ERRX2WIN', 'ERRY2WIN', 'ERRXYWIN', 'AWIN', 'BWIN', 'ERRAWIN', 'ERRBWIN', 'ERRTHETAWIN', 'THETAWIN', 'X2WIN', 'Y2WIN', 'XYWIN', 'CXXWIN', 'CYYWIN', 'CXYWIN', 'ERRCXXWIN', 'ERRCYYWIN', 'ERRCXYWIN']\n",
    "sourcelist.astrom_params = astrom\n",
    "sourcelist.make()\n",
    "sourcelist.commit()"
   ]
  },
  {
   "cell_type": "code",
   "execution_count": 92,
   "metadata": {},
   "outputs": [],
   "source": [
    "redsf_frames_SA113 = [(ReducedScienceFrame.filename == redf_filename)[0] for redf_filename in redsf_filenames_SA113]"
   ]
  },
  {
   "cell_type": "code",
   "execution_count": 153,
   "metadata": {},
   "outputs": [],
   "source": [
    "run = 'off'\n",
    "\n",
    "if run == 'on':\n",
    "    astrom_113 = [((AstrometricParameters.reduced == frame) & (AstrometricParameters.process_params.REFCAT=='USNO-B1.0')).max('creation_date') for frame in redsf_frames_SA113]\n",
    "\n",
    "    p = Pars(SourceList)\n",
    "    p.SourceList.astrom_params == (AstrometricParameters.process_params.REFCAT=='USNO-B1.0')\n",
    "    p_dict = p.get()\n",
    "\n",
    "    dpu.run('SourceList', filenames=redsf_filenames_SA113, pars=p_dict, dpu_time=1799, C=1, sexparam=['MAG_APER', 'MAGERR_APER', 'FLUX_AUTO', 'FLUXERR_AUTO', 'FLUX_APER', 'FLUXERR_APER', 'ERRX2_IMAGE', 'ERRY2_IMAGE', 'ERRXY_IMAGE', 'XWIN', 'YWIN', 'ERRX2WIN', 'ERRY2WIN', 'ERRXYWIN', 'AWIN', 'BWIN', 'ERRAWIN', 'ERRBWIN', 'ERRTHETAWIN', 'THETAWIN', 'X2WIN', 'Y2WIN', 'XYWIN', 'CXXWIN', 'CYYWIN', 'CXYWIN', 'ERRCXXWIN', 'ERRCYYWIN', 'ERRCXYWIN'], send_code=False)\n"
   ]
  },
  {
   "cell_type": "markdown",
   "metadata": {},
   "source": [
    "#### --> Creating SourceLists for given AstrometricParameters for SA113, having REFCAT \"SA113_GAIA_patch_Willeke\"  SLID=76167351"
   ]
  },
  {
   "cell_type": "code",
   "execution_count": 195,
   "metadata": {},
   "outputs": [],
   "source": [
    "redsf_frames_SA113 = [(ReducedScienceFrame.filename == redf_filename)[0] for redf_filename in redsf_filenames_SA113]"
   ]
  },
  {
   "cell_type": "code",
   "execution_count": 2,
   "metadata": {},
   "outputs": [],
   "source": [
    "\n",
    "run = 'off'\n",
    "\n",
    "if run == 'on':\n",
    "    astrom_113 = [((AstrometricParameters.reduced == frame) & (AstrometricParameters.process_params.REFCAT=='SA113_GAIA_patch_Willeke')).max('creation_date') for frame in redsf_frames_SA113]\n",
    "\n",
    "    p = Pars(SourceList)\n",
    "    p.SourceList.astrom_params == (AstrometricParameters.process_params.REFCAT=='SA113_GAIA_patch_Willeke')\n",
    "    p_dict = p.get()\n",
    "\n",
    "    dpu.run('SourceList', filenames=redsf_filenames_SA113, pars=p_dict, dpu_time=1799, C=1, sexparam=['MAG_APER', 'MAGERR_APER', 'FLUX_AUTO', 'FLUXERR_AUTO', 'FLUX_APER', 'FLUXERR_APER', 'ERRX2_IMAGE', 'ERRY2_IMAGE', 'ERRXY_IMAGE', 'XWIN', 'YWIN', 'ERRX2WIN', 'ERRY2WIN', 'ERRXYWIN', 'AWIN', 'BWIN', 'ERRAWIN', 'ERRBWIN', 'ERRTHETAWIN', 'THETAWIN', 'X2WIN', 'Y2WIN', 'XYWIN', 'CXXWIN', 'CYYWIN', 'CXYWIN', 'ERRCXXWIN', 'ERRCYYWIN', 'ERRCXYWIN'], send_code=False)\n"
   ]
  },
  {
   "cell_type": "markdown",
   "metadata": {},
   "source": [
    "### 4) Using DPU to obtain SourceList calibrated to USNO for SA 113 and SA 107"
   ]
  },
  {
   "cell_type": "code",
   "execution_count": null,
   "metadata": {},
   "outputs": [],
   "source": [
    "dpu.run('SourceList', filenames=[redsf_filenames_SA113], dpu_time=1799, C=1, astrom_params=((AstrometricParameters.reduced == frame) & (AstrometricParameters.process_params.REFCAT='USNO-B1.0')).max('creation_date'), sexparam=['MAG_APER', 'MAGERR_APER', 'FLUX_AUTO', 'FLUXERR_AUTO', 'FLUX_APER', 'FLUXERR_APER', 'ERRX2_IMAGE', 'ERRY2_IMAGE', 'ERRXY_IMAGE', 'XWIN', 'YWIN', 'ERRX2WIN', 'ERRY2WIN', 'ERRXYWIN', 'AWIN', 'BWIN', 'ERRAWIN', 'ERRBWIN', 'ERRTHETAWIN', 'THETAWIN', 'X2WIN', 'Y2WIN', 'XYWIN', 'CXXWIN', 'CYYWIN', 'CXYWIN', 'ERRCXXWIN', 'ERRCYYWIN', 'ERRCXYWIN'], send_code=False)\n",
    "dpu.run('SourceList', filenames=[redsf_filenames_SA107], dpu_time=1799, C=1, astrom_params=((AstrometricParameters.reduced == frame) & (AstrometricParameters.process_params.REFCAT='USNO-B1.0')).max('creation_date'), sexparam=['MAG_APER', 'MAGERR_APER', 'FLUX_AUTO', 'FLUXERR_AUTO', 'FLUX_APER', 'FLUXERR_APER', 'ERRX2_IMAGE', 'ERRY2_IMAGE', 'ERRXY_IMAGE', 'XWIN', 'YWIN', 'ERRX2WIN', 'ERRY2WIN', 'ERRXYWIN', 'AWIN', 'BWIN', 'ERRAWIN', 'ERRBWIN', 'ERRTHETAWIN', 'THETAWIN', 'X2WIN', 'Y2WIN', 'XYWIN', 'CXXWIN', 'CYYWIN', 'CXYWIN', 'ERRCXXWIN', 'ERRCYYWIN', 'ERRCXYWIN'], send_code=False)"
   ]
  },
  {
   "cell_type": "code",
   "execution_count": null,
   "metadata": {},
   "outputs": [],
   "source": [
    "dpu.run('SourceList', filenames=[redsf_filenames_SA113], dpu_time=1799, C=1, astrom_params=((AstrometricParameters.reduced == frame) & (AstrometricParameters.process_params.REFCAT='USNO-B1.0')).max('creation_date'), sexparam=['MAG_APER', 'MAGERR_APER', 'FLUX_AUTO', 'FLUXERR_AUTO', 'FLUX_APER', 'FLUXERR_APER', 'ERRX2_IMAGE', 'ERRY2_IMAGE', 'ERRXY_IMAGE', 'XWIN', 'YWIN', 'ERRX2WIN', 'ERRY2WIN', 'ERRXYWIN', 'AWIN', 'BWIN', 'ERRAWIN', 'ERRBWIN', 'ERRTHETAWIN', 'THETAWIN', 'X2WIN', 'Y2WIN', 'XYWIN', 'CXXWIN', 'CYYWIN', 'CXYWIN', 'ERRCXXWIN', 'ERRCYYWIN', 'ERRCXYWIN'], send_code=False)\n",
    "dpu.run('SourceList', filenames=[redsf_filenames_SA107], dpu_time=1799, C=1, astrom_params=((AstrometricParameters.reduced == frame) & (AstrometricParameters.process_params.REFCAT='USNO-B1.0')).max('creation_date'), sexparam=['MAG_APER', 'MAGERR_APER', 'FLUX_AUTO', 'FLUXERR_AUTO', 'FLUX_APER', 'FLUXERR_APER', 'ERRX2_IMAGE', 'ERRY2_IMAGE', 'ERRXY_IMAGE', 'XWIN', 'YWIN', 'ERRX2WIN', 'ERRY2WIN', 'ERRXYWIN', 'AWIN', 'BWIN', 'ERRAWIN', 'ERRBWIN', 'ERRTHETAWIN', 'THETAWIN', 'X2WIN', 'Y2WIN', 'XYWIN', 'CXXWIN', 'CYYWIN', 'CXYWIN', 'ERRCXXWIN', 'ERRCYYWIN', 'ERRCXYWIN'], send_code=False)"
   ]
  }
 ],
 "metadata": {
  "kernelspec": {
   "display_name": "Python 3",
   "language": "python",
   "name": "python3"
  },
  "language_info": {
   "codemirror_mode": {
    "name": "ipython",
    "version": 3
   },
   "file_extension": ".py",
   "mimetype": "text/x-python",
   "name": "python",
   "nbconvert_exporter": "python",
   "pygments_lexer": "ipython3",
   "version": "3.7.4"
  }
 },
 "nbformat": 4,
 "nbformat_minor": 2
}
